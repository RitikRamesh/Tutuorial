{
 "cells": [
  {
   "attachments": {},
   "cell_type": "markdown",
   "metadata": {},
   "source": [
    "Input the values of a and b as 10 and 20 respectively. Now check if a is greater or b is greater using if condition. Think about all the edge cases, and print the statements accordingly."
   ]
  },
  {
   "cell_type": "code",
   "execution_count": 1,
   "metadata": {},
   "outputs": [
    {
     "name": "stdout",
     "output_type": "stream",
     "text": [
      "B is greater than A\n"
     ]
    }
   ],
   "source": [
    "a = 10\n",
    "b = 20\n",
    "# a,b = int(input('Enter value for A :')),int(input('Enter value for B :'))\n",
    "if a > b:\n",
    "    print('A is greater than B')\n",
    "elif a < b:\n",
    "    print('B is greater than A')\n",
    "else:\n",
    "    print('A is equal to B')"
   ]
  },
  {
   "attachments": {},
   "cell_type": "markdown",
   "metadata": {},
   "source": [
    "Take three user inputs and print the greatest number from those inputs using if-else condition. Edge cases if any, should also be handled."
   ]
  },
  {
   "cell_type": "code",
   "execution_count": 3,
   "metadata": {},
   "outputs": [
    {
     "name": "stdout",
     "output_type": "stream",
     "text": [
      "The greatest value is c: 16.0\n"
     ]
    }
   ],
   "source": [
    "a, b, c = float(input('Enter value for A :')),float(input('Enter value for B :')), float(input('Enter value for C :'))\n",
    "if a > b and a > c:\n",
    "    print('The greatest value is a: ', a)\n",
    "elif b > a and b > c:\n",
    "    print('The greatest value is b:', b)\n",
    "else:\n",
    "    print('The greatest value is c:', c)"
   ]
  },
  {
   "attachments": {},
   "cell_type": "markdown",
   "metadata": {},
   "source": [
    "Create an array that is having user defined inputs and with the help of for loop, fetch all the prime numbers and print the numbers."
   ]
  },
  {
   "cell_type": "code",
   "execution_count": 7,
   "metadata": {},
   "outputs": [
    {
     "name": "stdout",
     "output_type": "stream",
     "text": [
      "Prime numbers in the array: []\n"
     ]
    }
   ],
   "source": [
    "number = int(input(\"Enter the number of elements in the array: \"))\n",
    "arr = [int(input(f\"Enter element {i+1}: \")) for i in range(number)]\n",
    "\n",
    "prime_numbers = [num for num in arr if all(num % i != 0 for i in range(2, int(num ** 0.5) + 1)) and num > 1]\n",
    "\n",
    "print(\"Prime numbers in the array:\", prime_numbers)"
   ]
  },
  {
   "attachments": {},
   "cell_type": "markdown",
   "metadata": {},
   "source": [
    "Print the numbers from 1 to 10 using while loop."
   ]
  },
  {
   "cell_type": "code",
   "execution_count": 8,
   "metadata": {},
   "outputs": [
    {
     "name": "stdout",
     "output_type": "stream",
     "text": [
      "1\n",
      "2\n",
      "3\n",
      "4\n",
      "5\n",
      "6\n",
      "7\n",
      "8\n",
      "9\n",
      "10\n"
     ]
    }
   ],
   "source": [
    "for i in range(1,11):\n",
    "    print(i)"
   ]
  },
  {
   "attachments": {},
   "cell_type": "markdown",
   "metadata": {},
   "source": [
    "Create a list that is having 10,23,4,26,4,75,24,54 values and with the help of while loop, fetch the even numbers and print the numbers."
   ]
  },
  {
   "cell_type": "code",
   "execution_count": 9,
   "metadata": {},
   "outputs": [
    {
     "name": "stdout",
     "output_type": "stream",
     "text": [
      "10\n",
      "4\n",
      "26\n",
      "4\n",
      "24\n",
      "54\n"
     ]
    }
   ],
   "source": [
    "num = [10,23,4,26,4,75,24,54]\n",
    "i = 0\n",
    "while i < len(num):\n",
    "    if num[i] % 2 == 0:\n",
    "        print(num[i])\n",
    "    i += 1"
   ]
  },
  {
   "cell_type": "code",
   "execution_count": 10,
   "metadata": {},
   "outputs": [
    {
     "name": "stdout",
     "output_type": "stream",
     "text": [
      "10\n",
      "4\n",
      "26\n",
      "4\n",
      "24\n",
      "54\n"
     ]
    }
   ],
   "source": [
    "num = [10,23,4,26,4,75,24,54]\n",
    "for i in num:\n",
    "    if i % 2 == 0:\n",
    "        print(i)"
   ]
  },
  {
   "attachments": {},
   "cell_type": "markdown",
   "metadata": {},
   "source": [
    "\n",
    "1. Create a list containing squares of numbers from 1 to 10 (HINT: use List Comprehension).\n",
    "2. Write a Function to check if year number is a leap year.\n",
    "3. Write a Function to take an array and return another array that contains the members of first\n",
    "array that are even.\n",
    "4. Write a Function that takes 2 arrays and prints the members of first array that are present of second array. (HINT: use Membership Comprehension)"
   ]
  },
  {
   "cell_type": "code",
   "execution_count": 11,
   "metadata": {},
   "outputs": [
    {
     "name": "stdout",
     "output_type": "stream",
     "text": [
      "[[1, 4, 9, 16, 25, 36, 49, 64, 81, 100]]\n"
     ]
    }
   ],
   "source": [
    "list_sqr = []\n",
    "x = [i**2 for i in range(1,11)]\n",
    "list_sqr.append(x)\n",
    "print(list_sqr)"
   ]
  },
  {
   "cell_type": "code",
   "execution_count": 16,
   "metadata": {},
   "outputs": [
    {
     "name": "stdout",
     "output_type": "stream",
     "text": [
      "False\n"
     ]
    }
   ],
   "source": [
    "leap_yr = []\n",
    "def check_leap_yr(yr):\n",
    "    if yr % 4 == 0 and (yr % 100 != 0 or yr % 400 == 0):\n",
    "        return True\n",
    "    else:\n",
    "        return False\n",
    "print(check_leap_yr(int(input('Enter the Year :'))))"
   ]
  },
  {
   "cell_type": "code",
   "execution_count": 15,
   "metadata": {},
   "outputs": [
    {
     "name": "stdout",
     "output_type": "stream",
     "text": [
      "True\n"
     ]
    }
   ],
   "source": [
    "leap_yr = []\n",
    "def check_leap_yr(yr):\n",
    "    if (yr % 4 == 0 and yr % 100 != 0) or yr % 400 == 0:\n",
    "        return True\n",
    "    else:\n",
    "        return False\n",
    "print(check_leap_yr(int(input('Enter the Year :'))))"
   ]
  },
  {
   "cell_type": "code",
   "execution_count": 12,
   "metadata": {},
   "outputs": [
    {
     "name": "stdout",
     "output_type": "stream",
     "text": [
      "[2, 4, 6, 8, 10]\n"
     ]
    }
   ],
   "source": [
    "def even_num(ar):\n",
    "    ev_nm = [x for x in ar if x%2 == 0]\n",
    "    return ev_nm\n",
    "arr = [1,2,3,4,5,6,7,8,9,10]\n",
    "ev_nm = even_num(arr)\n",
    "print(ev_nm)"
   ]
  },
  {
   "cell_type": "code",
   "execution_count": 13,
   "metadata": {},
   "outputs": [
    {
     "name": "stdout",
     "output_type": "stream",
     "text": [
      "[3, 'ritik', 'simran']\n"
     ]
    }
   ],
   "source": [
    "def concat(ar1,ar2):\n",
    "    common_var = [x for x in ar1 if x in ar2]\n",
    "    print(common_var)\n",
    "ar1 = [1,2,3,'ritik', 'simran', 'sukhdeep', 'sacheva']\n",
    "ar2 = [3,4,5,6,'ritik','simran','diksha','munish']\n",
    "concat(ar1,ar2)"
   ]
  },
  {
   "attachments": {},
   "cell_type": "markdown",
   "metadata": {},
   "source": [
    "1. Create 1st tuple with values -> (10,20,30), 2nd tuple with values -> (40,50,60).\n",
    "\n",
    "    a. Concatenate the two tuples and store it in “t_combine”\n",
    "    b. Repeat the elements of “t_combine” 3 times\n",
    "    c. Access the 3rd element from “t_combine”\n",
    "    d. Access the first three elements from “t_combine”\n",
    "    e. Access the last three elements from “t_combine”\n",
    "\n",
    "2. Create a list ‘my_list’ with these elements:\n",
    "\n",
    "    a. First element is a tuple with values 1,2,3\n",
    "    b. Second element is a tuple with values “a”,”b”,”c”\n",
    "    c. Third element is a tuple with values True,False\n",
    "\n",
    "3. Append a new tuple – (1,’a’,True) to ‘my_list’\n",
    "\n",
    "    a. Append a new list – [“sparta”,123] to my_list\n",
    "\n",
    "4. Create a dictionary ‘fruit’ where:\n",
    "\n",
    "    a. The first key is ‘Fruit’ and the values are (“Apple”,”Banana”,”Mango”,”Guava”) b. The second key is ‘Cost’ and the values are (85,54,120,70)\n",
    "    c. Extract all the keys from ‘fruit’\n",
    "    d. Extract all the values from ‘fruit’\n",
    "\n",
    "5. Crete a set named ‘my_set’ with values (1,1,”a”,”a”,True,True) and print the result"
   ]
  },
  {
   "cell_type": "code",
   "execution_count": 17,
   "metadata": {},
   "outputs": [
    {
     "name": "stdout",
     "output_type": "stream",
     "text": [
      "Combinig tuples : (10, 20, 30, 40, 50, 60)\n",
      "Repeating combined tuples : (10, 20, 30, 40, 50, 60, 10, 20, 30, 40, 50, 60, 10, 20, 30, 40, 50, 60)\n",
      "Third element from combined tuple : 30\n",
      "Accessing first three elements : (10, 20, 30)\n",
      "Accessing last three elements : (40, 50, 60)\n"
     ]
    }
   ],
   "source": [
    "tuple1 = (10,20,30)\n",
    "tuple2 = (40,50,60)\n",
    "t_combine = tuple1 + tuple2\n",
    "print('Combinig tuples :',t_combine)                                              #A\n",
    "repeat_comb = t_combine * 3\n",
    "print('Repeating combined tuples :',repeat_comb)                                  #B\n",
    "print('Third element from combined tuple :',t_combine[2])                         #C\n",
    "print('Accessing first three elements :', t_combine[:3])                          #D\n",
    "print('Accessing last three elements :', t_combine[3:])                           #E"
   ]
  },
  {
   "cell_type": "code",
   "execution_count": 18,
   "metadata": {},
   "outputs": [
    {
     "name": "stdout",
     "output_type": "stream",
     "text": [
      "[(1, 2, 3)]\n",
      "[(1, 2, 3), ('a', 'b', 'c')]\n",
      "[(1, 2, 3), ('a', 'b', 'c'), (True, False)]\n"
     ]
    }
   ],
   "source": [
    "my_list = []\n",
    "my_list.insert(0,(1,2,3))\n",
    "print(my_list)                                      #A\n",
    "my_list.insert(1,(\"a\",\"b\",\"c\"))\n",
    "print(my_list)                                      #B\n",
    "my_list.insert(2,(True,False))\n",
    "print(my_list)                                      #C"
   ]
  },
  {
   "cell_type": "code",
   "execution_count": 19,
   "metadata": {},
   "outputs": [
    {
     "name": "stdout",
     "output_type": "stream",
     "text": [
      "[(1, 2, 3)]\n",
      "[(1, 2, 3), ('a', 'b', 'c')]\n",
      "[(1, 2, 3), ('a', 'b', 'c'), (True, False)]\n",
      "[(1, 2, 3), ('a', 'b', 'c'), (True, False), (1, 'a', True)]\n",
      "[(1, 2, 3), ('a', 'b', 'c'), (True, False), (1, 'a', True), ['sparta', 123]]\n"
     ]
    }
   ],
   "source": [
    "my_list = []\n",
    "my_list.insert(0,(1,2,3))\n",
    "print(my_list)\n",
    "my_list.insert(1,(\"a\",\"b\",\"c\"))\n",
    "print(my_list)\n",
    "my_list.insert(2,(True,False))\n",
    "print(my_list)\n",
    "my_list.append((1,'a',True))\n",
    "print(my_list)                                      #A\n",
    "my_list.append([\"sparta\",123])\n",
    "print(my_list)                                      #B"
   ]
  },
  {
   "cell_type": "code",
   "execution_count": 20,
   "metadata": {},
   "outputs": [
    {
     "name": "stdout",
     "output_type": "stream",
     "text": [
      "fruit\n",
      "cost\n",
      "('Apple', 'Banana', 'Mango', 'Guava')\n",
      "(85, 54, 120, 70)\n"
     ]
    }
   ],
   "source": [
    "fruit ={\n",
    "    'fruit' : (\"Apple\",\"Banana\",\"Mango\",\"Guava\"),\n",
    "    'cost' : (85,54,120,70)\n",
    "}\n",
    "for key_name in fruit.keys():\n",
    "    print(key_name)                                 #A\n",
    "for Values_nm in fruit.values():\n",
    "    print(Values_nm)                                #B"
   ]
  },
  {
   "cell_type": "code",
   "execution_count": 21,
   "metadata": {},
   "outputs": [
    {
     "name": "stdout",
     "output_type": "stream",
     "text": [
      "{1, 'a'}\n"
     ]
    }
   ],
   "source": [
    "my_set = {1,1,\"a\",\"a\",True,True}\n",
    "print(my_set)"
   ]
  }
 ],
 "metadata": {
  "kernelspec": {
   "display_name": "Python 3",
   "language": "python",
   "name": "python3"
  },
  "language_info": {
   "codemirror_mode": {
    "name": "ipython",
    "version": 3
   },
   "file_extension": ".py",
   "mimetype": "text/x-python",
   "name": "python",
   "nbconvert_exporter": "python",
   "pygments_lexer": "ipython3",
   "version": "3.9.13"
  },
  "orig_nbformat": 4
 },
 "nbformat": 4,
 "nbformat_minor": 2
}
